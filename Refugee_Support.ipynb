{
 "cells": [
  {
   "cell_type": "code",
   "execution_count": 396,
   "metadata": {
    "collapsed": true
   },
   "outputs": [],
   "source": [
    "import requests,pandas as pd, plotly.plotly as py,json,re\n",
    "from plotly import tools\n",
    "from plotly.graph_objs import *\n",
    "from pandas.io.json import json_normalize\n",
    "\n",
    "def ConvertForPlots(dataframe): #Modified ConvertForPlots from previous notebook at https://github.com/cximran/Meat-Consumption-and-Agricultural-Stats/blob/master/Meat%20Consumption%20%26%20Land%20Stats.ipynb\n",
    "    dataframe.fillna('',inplace=True)\n",
    "    dataframe=dataframe.set_index('Country').T\n",
    "    dataframe.reset_index(inplace=True)\n",
    "    dataframe.rename(columns={dataframe.columns[0]:'Year'},inplace=True)\n",
    "    dataframe.index.name='Index'\n",
    "    return(dataframe)\n",
    "land_data=pd.read_csv(\"Land_Data.csv\")\n",
    "land_data=ConvertForPlots(land_data)"
   ]
  },
  {
   "cell_type": "code",
   "execution_count": 397,
   "metadata": {
    "collapsed": true
   },
   "outputs": [],
   "source": [
    "value_regex=re.compile(ur'[0-9]... HDI value')\n",
    "\n",
    "HDI_Data=pd.read_csv(\"HDI_Trends.csv\")\n",
    "\n",
    "g7countries=['Canada','France','Germany','Italy','Japan','United Kingdom','United States']\n",
    "bricscountries=['Brazil','Russian Federation','India','China','South Africa']\n",
    "eucountries=['Austria','Belgium','Bulgaria','Croatia','Cyprus','Czech Republic','Denmark','Estonia','Finland','France','Germany','Greece','Hungary','Ireland','Italy','Latvia','Lithuania','Luxembourg','Malta','Netherlands','Poland','Portugal','Romania','Slovakia','Slovenia','Spain','Sweden','United Kingdom']\n"
   ]
  },
  {
   "cell_type": "code",
   "execution_count": 398,
   "metadata": {
    "collapsed": false
   },
   "outputs": [],
   "source": [
    "for column in HDI_Data.columns:\n",
    "    #print(column)\n",
    "    if(re.match(value_regex,column)):\n",
    "        HDI_Data.rename(columns={column:column[0:4]},inplace=True)\n",
    "     \n",
    "    elif column != 'Country': \n",
    "        HDI_Data=HDI_Data.drop(column,1)\n",
    "\n",
    "HDI_Data=ConvertForPlots(HDI_Data)\n",
    "hdi_land_factor={}\n",
    "for country in land_data.columns[1:]:\n",
    "    try:\n",
    "        hdi_land_factor[country]=land_data[country][53]*float(HDI_Data[country][8])#             print(HDI_Data[country][8])\n",
    "    except:\n",
    "        pass\n",
    "hdi_land_factor=pd.DataFrame(hdi_land_factor.items()).set_index(0).T"
   ]
  },
  {
   "cell_type": "code",
   "execution_count": 399,
   "metadata": {
    "collapsed": false
   },
   "outputs": [
    {
     "data": {
      "text/html": [
       "<div>\n",
       "<table border=\"1\" class=\"dataframe\">\n",
       "  <thead>\n",
       "    <tr style=\"text-align: right;\">\n",
       "      <th></th>\n",
       "      <th>Canada</th>\n",
       "      <th>Sao Tome and Principe</th>\n",
       "      <th>Turkmenistan</th>\n",
       "      <th>Lithuania</th>\n",
       "      <th>Cambodia</th>\n",
       "      <th>Ethiopia</th>\n",
       "      <th>Swaziland</th>\n",
       "      <th>South Asia</th>\n",
       "      <th>Argentina</th>\n",
       "      <th>Cameroon</th>\n",
       "      <th>...</th>\n",
       "      <th>Tunisia</th>\n",
       "      <th>Nicaragua</th>\n",
       "      <th>Singapore</th>\n",
       "      <th>Serbia</th>\n",
       "      <th>Botswana</th>\n",
       "      <th>United Kingdom</th>\n",
       "      <th>Greece</th>\n",
       "      <th>Sri Lanka</th>\n",
       "      <th>Namibia</th>\n",
       "      <th>Comoros</th>\n",
       "    </tr>\n",
       "  </thead>\n",
       "  <tbody>\n",
       "    <tr>\n",
       "      <th>1</th>\n",
       "      <td>8202346.02</td>\n",
       "      <td>535.68</td>\n",
       "      <td>328011.14</td>\n",
       "      <td>52270.95</td>\n",
       "      <td>103087.68</td>\n",
       "      <td>435000</td>\n",
       "      <td>9116</td>\n",
       "      <td>2805687.276</td>\n",
       "      <td>2211245.52</td>\n",
       "      <td>238245.84</td>\n",
       "      <td>...</td>\n",
       "      <td>112014.56</td>\n",
       "      <td>73888.76</td>\n",
       "      <td>637.007</td>\n",
       "      <td>65157.7</td>\n",
       "      <td>387076.59</td>\n",
       "      <td>215801.56</td>\n",
       "      <td>109951.7</td>\n",
       "      <td>47032.5</td>\n",
       "      <td>513732.96</td>\n",
       "      <td>908.168</td>\n",
       "    </tr>\n",
       "  </tbody>\n",
       "</table>\n",
       "<p>1 rows × 165 columns</p>\n",
       "</div>"
      ],
      "text/plain": [
       "0      Canada  Sao Tome and Principe  Turkmenistan  Lithuania   Cambodia  \\\n",
       "1  8202346.02                 535.68     328011.14   52270.95  103087.68   \n",
       "\n",
       "0  Ethiopia  Swaziland   South Asia   Argentina   Cameroon   ...     \\\n",
       "1    435000       9116  2805687.276  2211245.52  238245.84   ...      \n",
       "\n",
       "0    Tunisia  Nicaragua  Singapore   Serbia   Botswana  United Kingdom  \\\n",
       "1  112014.56   73888.76    637.007  65157.7  387076.59       215801.56   \n",
       "\n",
       "0    Greece  Sri Lanka    Namibia  Comoros  \n",
       "1  109951.7    47032.5  513732.96  908.168  \n",
       "\n",
       "[1 rows x 165 columns]"
      ]
     },
     "execution_count": 399,
     "metadata": {},
     "output_type": "execute_result"
    }
   ],
   "source": [
    "hdi_land_factor"
   ]
  },
  {
   "cell_type": "code",
   "execution_count": 400,
   "metadata": {
    "collapsed": false
   },
   "outputs": [],
   "source": [
    "hdi_land_factor.to_csv(\"testland.csv\")"
   ]
  },
  {
   "cell_type": "code",
   "execution_count": null,
   "metadata": {
    "collapsed": false
   },
   "outputs": [],
   "source": []
  },
  {
   "cell_type": "code",
   "execution_count": null,
   "metadata": {
    "collapsed": true
   },
   "outputs": [],
   "source": []
  },
  {
   "cell_type": "code",
   "execution_count": null,
   "metadata": {
    "collapsed": false
   },
   "outputs": [],
   "source": []
  },
  {
   "cell_type": "code",
   "execution_count": null,
   "metadata": {
    "collapsed": false
   },
   "outputs": [],
   "source": []
  },
  {
   "cell_type": "code",
   "execution_count": null,
   "metadata": {
    "collapsed": false
   },
   "outputs": [],
   "source": []
  },
  {
   "cell_type": "code",
   "execution_count": 419,
   "metadata": {
    "collapsed": false
   },
   "outputs": [],
   "source": [
    "g7datatraces=[]\n",
    "bricsdatatraces=[]\n",
    "eudatatraces=[]\n",
    "g7landdata=[]\n",
    "bricslanddata=[]\n",
    "eulanddata=[]\n",
    "for country in g7countries:\n",
    "    g7datatraces.append(\n",
    "    Scatter(\n",
    "        x=HDI_Data['Year'],\n",
    "        y=HDI_Data[country],\n",
    "        name=country,\n",
    "        mode='lines',\n",
    "        legendgroup='G7',\n",
    "        line=Line(width=2))\n",
    "        )\n",
    "    g7landdata.append(\n",
    "    Bar(\n",
    "        x=country,\n",
    "        y=hdi_land_factor[country],\n",
    "        showlegend=False,\n",
    "        hoverinfo='y',\n",
    "\n",
    "            marker=Marker(\n",
    "color=\"rgb(45, 194, 0)\",\n",
    "line=Line(\n",
    "width=2)\n",
    "        )\n",
    "    )\n",
    ")\n",
    "for country in bricscountries:\n",
    "    bricsdatatraces.append(\n",
    "    Scatter(\n",
    "        x=HDI_Data['Year'],\n",
    "        y=HDI_Data[country],\n",
    "        name=country,\n",
    "        mode='lines',\n",
    "        legendgroup='Brics')\n",
    "        )\n",
    "    bricslanddata.append(\n",
    "    Bar(\n",
    "        x=country,\n",
    "        y=hdi_land_factor[country],\n",
    "        showlegend=False,\n",
    "        hoverinfo='y',\n",
    "\n",
    "            marker=Marker(\n",
    "color=\"rgb(255, 128, 0)\",\n",
    "line=Line(\n",
    "width=2)\n",
    "        )\n",
    "    )\n",
    ")\n",
    "for country in eucountries:\n",
    "    eulanddata.append(\n",
    "    Bar(\n",
    "        x=country,\n",
    "        y=hdi_land_factor[country],\n",
    "        showlegend=False,\n",
    "        hoverinfo='y',\n",
    "        marker=Marker(\n",
    "            color=\"rgb(159, 197, 232)\",\n",
    "            line=Line(\n",
    "                    width=2))))\n",
    "g7datatraces.append(\n",
    "    Scatter(\n",
    "        x=HDI_Data['Year'],\n",
    "        y=HDI_Data['Syrian Arab Republic'],\n",
    "        name='Syria',\n",
    "        mode='lines',\n",
    "        legendgroup='Syria',\n",
    "        line=Line(width=2,dash='dot',color='rgb(255,0,0)')\n",
    "        )\n",
    ")\n",
    "bricsdatatraces.append(\n",
    "    Scatter(\n",
    "        x=HDI_Data['Year'],\n",
    "        y=HDI_Data['Syrian Arab Republic'],\n",
    "        name='Syria',\n",
    "        mode='lines',\n",
    "        legendgroup='Syria',\n",
    "        line=Line(width=2,dash='dot',color='rgb(255,0,0)')\n",
    "        ))\n",
    "\n",
    "eubardata=[Bar(\n",
    "x=eucountries,\n",
    "y=[HDI_Data[country][8] for country in eucountries],\n",
    "showlegend=False,\n",
    "name='EU Countries',\n",
    "hoverinfo='y',\n",
    "marker=Marker(\n",
    "color=\"rgb(159, 197, 232)\",\n",
    "line=Line(\n",
    "width=2))\n",
    "     \n",
    "    )]\n",
    "eubardata.append(\n",
    "    Scatter(\n",
    "        x=eucountries,\n",
    "        y=[HDI_Data['Syrian Arab Republic'][8]]*len(eucountries),\n",
    "        name='Syria',\n",
    "        mode='lines',\n",
    "        legendgroup='Syria',\n",
    "        hoverinfo='y',\n",
    "        line=Line(width=2,dash='dot',color='rgb(255,0,0)')\n",
    "        \n",
    "        ))\n",
    "g7landdata.append(\n",
    "    Scatter(\n",
    "        x=g7countries,\n",
    "        y=[hdi_land_factor['Syrian Arab Republic']]*len(g7countries),\n",
    "        name='Syria',\n",
    "        mode='lines',\n",
    "        legendgroup='Syria',\n",
    "        hoverinfo='y',\n",
    "        line=Line(width=2,dash='dot',color='rgb(255,0,0)')\n",
    "        \n",
    "        ))\n",
    "\n",
    "bricslanddata.append(\n",
    "    Scatter(\n",
    "        x=bricscountries,\n",
    "        y=[hdi_land_factor['Syrian Arab Republic']]*len(bricscountries),\n",
    "        name='Syria',\n",
    "        mode='lines',\n",
    "        legendgroup='Syria',\n",
    "        hoverinfo='y',\n",
    "        line=Line(width=2,dash='dot',color='rgb(255,0,0)')\n",
    "        \n",
    "        ))\n",
    "\n",
    "eulanddata.append(\n",
    "    Scatter(\n",
    "        x=eucountries,\n",
    "        y=[hdi_land_factor['Syrian Arab Republic']]*len(eucountries),\n",
    "        name='Syria',\n",
    "        mode='lines',\n",
    "        legendgroup='Syria',\n",
    "        hoverinfo='y',\n",
    "        line=Line(width=2,dash='dot',color='rgb(255,0,0)')\n",
    "        \n",
    "        ))\n",
    "\n",
    "# for x in range(0,len(g7countries)):\n",
    "#     fig.append_trace(g7datatraces[x],1,1)\n",
    "# for x in range(0,len(bricscountries)):\n",
    "#     fig.append_trace(bricsdatatraces[x],2,1)\n",
    "g7data=Data(g7datatraces)\n",
    "g7layout=Layout(height=500,legend=Legend(y=.15,x=.75,borderwidth=1),title='G7 Human Development Index Trends',plot_bgcolor= 'rgb(255, 255, 255)',font=Font(family='Droid Sans'),xaxis=XAxis(title='Year',dtick=3,range=[1980,2013],fixedrange=True),yaxis=YAxis(title='Human Development Index'),margin=Margin(t=80))\n",
    "g7landlayout=Layout(height=500,legend=Legend(y=.5,x=1,borderwidth=1),title='G7 HDI * Land Area',plot_bgcolor= 'rgb(255, 255, 255)',font=Font(family='Droid Sans'),xaxis=XAxis(title=''),yaxis=YAxis(title='Human Development Index * Land Area'),margin=Margin(t=80))\n",
    "g7fig=Figure(data=g7data,layout=g7layout)\n",
    "bricsdata=Data(bricsdatatraces)\n",
    "bricslayout=Layout(height=500,legend=Legend(y=.15,x=.75,borderwidth=1),title='BRICS Human Development Index Trends',plot_bgcolor= 'rgb(255, 255, 255)',font=Font(family='Droid Sans'),xaxis=XAxis(title='Year',dtick=3,range=[1980,2013],fixedrange=True),yaxis=YAxis(title='Human Development Index'),margin=Margin(t=80))\n",
    "bricslandlayout=Layout(height=500,legend=Legend(y=.5,x=1,borderwidth=1),title='BRICS HDI * Land Area',plot_bgcolor= 'rgb(255, 255, 255)',font=Font(family='Droid Sans'),xaxis=XAxis(title=''),yaxis=YAxis(title='Human Development Index * Land Area'),margin=Margin(t=80))\n",
    "\n",
    "bricsfig=Figure(data=bricsdata,layout=bricslayout)\n",
    "eudata=Data(eubardata)\n",
    "eulayout=Layout(height=500,legend=Legend(y=.5,x=1,borderwidth=1),title='European Union Human Development Index 2013',plot_bgcolor= 'rgb(255, 255, 255)',font=Font(family='Droid Sans'),xaxis=XAxis(title=''),yaxis=YAxis(title='Human Development Index'),margin=Margin(t=80))\n",
    "eufig=Figure(data=eudata,layout=eulayout)\n",
    "eulandlayout=Layout(height=500,legend=Legend(y=.5,x=1,borderwidth=1),title='EU HDI * Land Area',plot_bgcolor= 'rgb(255, 255, 255)',font=Font(family='Droid Sans'),xaxis=XAxis(title=''),yaxis=YAxis(title='Human Development Index * Land Area'),margin=Margin(t=80))\n",
    "\n",
    "\n",
    "#py.iplot(g7fig, filename = 'G7')\n"
   ]
  },
  {
   "cell_type": "code",
   "execution_count": 420,
   "metadata": {
    "collapsed": false
   },
   "outputs": [
    {
     "data": {
      "text/html": [
       "<iframe id=\"igraph\" scrolling=\"no\" style=\"border:none;\"seamless=\"seamless\" src=\"https://plot.ly/~cximran/462.embed\" height=\"500px\" width=\"100%\"></iframe>"
      ],
      "text/plain": [
       "<plotly.tools.PlotlyDisplay object>"
      ]
     },
     "execution_count": 420,
     "metadata": {},
     "output_type": "execute_result"
    }
   ],
   "source": [
    "py.iplot(bricsfig,filename='BRICS Human Development Index Trend')"
   ]
  },
  {
   "cell_type": "code",
   "execution_count": 421,
   "metadata": {
    "collapsed": false
   },
   "outputs": [
    {
     "data": {
      "text/html": [
       "<iframe id=\"igraph\" scrolling=\"no\" style=\"border:none;\"seamless=\"seamless\" src=\"https://plot.ly/~cximran/453.embed\" height=\"500px\" width=\"100%\"></iframe>"
      ],
      "text/plain": [
       "<plotly.tools.PlotlyDisplay object>"
      ]
     },
     "execution_count": 421,
     "metadata": {},
     "output_type": "execute_result"
    }
   ],
   "source": [
    "py.iplot(eufig, filename = 'EU Human Development Index 2013')\n"
   ]
  },
  {
   "cell_type": "code",
   "execution_count": 422,
   "metadata": {
    "collapsed": false
   },
   "outputs": [
    {
     "data": {
      "text/html": [
       "<iframe id=\"igraph\" scrolling=\"no\" style=\"border:none;\"seamless=\"seamless\" src=\"https://plot.ly/~cximran/455.embed\" height=\"500px\" width=\"100%\"></iframe>"
      ],
      "text/plain": [
       "<plotly.tools.PlotlyDisplay object>"
      ]
     },
     "execution_count": 422,
     "metadata": {},
     "output_type": "execute_result"
    }
   ],
   "source": [
    "py.iplot(g7fig, filename = 'G7 Human Development Index Trend')\n"
   ]
  },
  {
   "cell_type": "code",
   "execution_count": 423,
   "metadata": {
    "collapsed": false
   },
   "outputs": [
    {
     "data": {
      "text/html": [
       "<iframe id=\"igraph\" scrolling=\"no\" style=\"border:none;\"seamless=\"seamless\" src=\"https://plot.ly/~cximran/480.embed\" height=\"500px\" width=\"100%\"></iframe>"
      ],
      "text/plain": [
       "<plotly.tools.PlotlyDisplay object>"
      ]
     },
     "execution_count": 423,
     "metadata": {},
     "output_type": "execute_result"
    }
   ],
   "source": [
    "py.iplot(Figure(data=Data(g7landdata),layout=g7landlayout),filename='G7 HDI Multiplied by Available Land')"
   ]
  },
  {
   "cell_type": "code",
   "execution_count": null,
   "metadata": {
    "collapsed": false
   },
   "outputs": [],
   "source": []
  },
  {
   "cell_type": "code",
   "execution_count": 424,
   "metadata": {
    "collapsed": false
   },
   "outputs": [
    {
     "data": {
      "text/html": [
       "<iframe id=\"igraph\" scrolling=\"no\" style=\"border:none;\"seamless=\"seamless\" src=\"https://plot.ly/~cximran/482.embed\" height=\"500px\" width=\"100%\"></iframe>"
      ],
      "text/plain": [
       "<plotly.tools.PlotlyDisplay object>"
      ]
     },
     "execution_count": 424,
     "metadata": {},
     "output_type": "execute_result"
    }
   ],
   "source": [
    "py.iplot(Figure(data=Data(bricslanddata),layout=bricslandlayout),filename='BRICS HDI Multiplied by Available Land')"
   ]
  },
  {
   "cell_type": "code",
   "execution_count": 425,
   "metadata": {
    "collapsed": false
   },
   "outputs": [
    {
     "data": {
      "text/html": [
       "<iframe id=\"igraph\" scrolling=\"no\" style=\"border:none;\"seamless=\"seamless\" src=\"https://plot.ly/~cximran/484.embed\" height=\"500px\" width=\"100%\"></iframe>"
      ],
      "text/plain": [
       "<plotly.tools.PlotlyDisplay object>"
      ]
     },
     "execution_count": 425,
     "metadata": {},
     "output_type": "execute_result"
    }
   ],
   "source": [
    "py.iplot(Figure(data=Data(eulanddata),layout=eulandlayout),filename='EU HDI Multiplied by Available Land')"
   ]
  },
  {
   "cell_type": "code",
   "execution_count": null,
   "metadata": {
    "collapsed": true
   },
   "outputs": [],
   "source": []
  },
  {
   "cell_type": "code",
   "execution_count": null,
   "metadata": {
    "collapsed": true
   },
   "outputs": [],
   "source": []
  },
  {
   "cell_type": "code",
   "execution_count": null,
   "metadata": {
    "collapsed": true
   },
   "outputs": [],
   "source": []
  }
 ],
 "metadata": {
  "kernelspec": {
   "display_name": "Python 2",
   "language": "python",
   "name": "python2"
  },
  "language_info": {
   "codemirror_mode": {
    "name": "ipython",
    "version": 2
   },
   "file_extension": ".py",
   "mimetype": "text/x-python",
   "name": "python",
   "nbconvert_exporter": "python",
   "pygments_lexer": "ipython2",
   "version": "2.7.10"
  }
 },
 "nbformat": 4,
 "nbformat_minor": 0
}
